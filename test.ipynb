{
 "cells": [
  {
   "cell_type": "code",
   "execution_count": 2,
   "metadata": {},
   "outputs": [],
   "source": [
    "import numpy as np\n",
    "import matplotlib.pyplot as plt\n",
    "import contourpy as cntr\n",
    "# Use pyqt to enable interactive plotting\n",
    "plt.switch_backend('Qt5Agg')\n",
    "import numba as nb"
   ]
  },
  {
   "cell_type": "code",
   "execution_count": 3,
   "metadata": {},
   "outputs": [],
   "source": [
    "def read_eqdsk(filename):\n",
    "    '''! Read gEQDSK file\n",
    "\n",
    "    @param filename Path to gEQDSK file\n",
    "    @result Dictionary containing gEQDSK information\n",
    "    '''\n",
    "    def read_1d(fid, n):\n",
    "        j = 0\n",
    "        output = np.zeros((n,))\n",
    "        for i in range(n):\n",
    "            if j == 0:\n",
    "                line = fid.readline()\n",
    "            output[i] = line[j:j+16]\n",
    "            j += 16\n",
    "            if j == 16*5:\n",
    "                j = 0\n",
    "        return output\n",
    "\n",
    "    def read_2d(fid, n, m):\n",
    "        j = 0\n",
    "        output = np.zeros((n, m))\n",
    "        for k in range(n):\n",
    "            for i in range(m):\n",
    "                if j == 0:\n",
    "                    line = fid.readline()\n",
    "                output[k, i] = line[j:j+16]\n",
    "                j += 16\n",
    "                if j == 16*5:\n",
    "                    j = 0\n",
    "        return output\n",
    "    # Read-in data\n",
    "    eqdsk_obj = {}\n",
    "    with open(filename, 'r') as fid:\n",
    "        # Get sizes\n",
    "        line = fid.readline()\n",
    "        eqdsk_obj['case'] = line[:48]\n",
    "        split_line = line[48:].split()\n",
    "        eqdsk_obj['nr'] = int(split_line[-2])\n",
    "        eqdsk_obj['nz'] = int(split_line[-1])\n",
    "        # Read header content\n",
    "        line_keys = [['rdim',  'zdim',  'rcentr',  'rleft',  'zmid'],\n",
    "                     ['raxis', 'zaxis', 'psimag', 'psibry', 'bcentr'],\n",
    "                     ['ip',    'skip',  'skip',   'skip',   'skip'],\n",
    "                     ['skip',  'skip',  'skip',   'skip',   'skip']]\n",
    "        for i in range(4):\n",
    "            line = fid.readline()\n",
    "            for j in range(5):\n",
    "                if line_keys[i][j] == 'skip':\n",
    "                    continue\n",
    "                line_seg = line[j*16:(j+1)*16]\n",
    "                eqdsk_obj[line_keys[i][j]] = float(line_seg)\n",
    "        # Read flux profiles\n",
    "        keys = ['fpol', 'pres', 'ffprim', 'pprime']\n",
    "        for key in keys:\n",
    "            eqdsk_obj[key] = read_1d(fid, eqdsk_obj['nr'])\n",
    "        # Read PSI grid\n",
    "        eqdsk_obj['psirz'] = read_2d(fid, eqdsk_obj['nz'],\n",
    "                                        eqdsk_obj['nr'])\n",
    "        # Read q-profile\n",
    "        eqdsk_obj['qpsi'] = read_1d(fid, eqdsk_obj['nr'])\n",
    "        # Read limiter count\n",
    "        line = fid.readline()\n",
    "        eqdsk_obj['nbbs'] = int(line.split()[0])\n",
    "        eqdsk_obj['nlim'] = int(line.split()[1])\n",
    "        # Read outer flux surface\n",
    "        eqdsk_obj['rzout'] = read_2d(fid, eqdsk_obj['nbbs'], 2)\n",
    "        # Read limiting corners\n",
    "        eqdsk_obj['rzlim'] = read_2d(fid, eqdsk_obj['nlim'], 2)\n",
    "    return eqdsk_obj\n"
   ]
  },
  {
   "cell_type": "code",
   "execution_count": 79,
   "metadata": {},
   "outputs": [],
   "source": [
    "\n",
    "\n",
    "ptypes = [('R', nb.float64), \n",
    "          ('a', nb.float64),\n",
    "          ('kappa', nb.float64),\n",
    "          ('B0', nb.float64),\n",
    "          ('Ip', nb.float64),\n",
    "          ('q_a', nb.float64),\n",
    "          ('H', nb.float64),\n",
    "          ('M_i', nb.float64),\n",
    "          ('fHe', nb.float64),\n",
    "          ('f_LH', nb.float64),\n",
    "          ('volgrid', nb.float64[:]),\n",
    "          ('sqrtpsin', nb.float64[:]),\n",
    "          ('impurityfractions', nb.float64[:])\n",
    "          ]\n",
    "\n",
    "impnames = np.array([\"Helium\", \"Neon\", \"Argon\", \"Krypton\", \"Xenon\", \"Tungsten\"], dtype=np.dtype('U10'))\n",
    "\n",
    "@nb.experimental.jitclass(spec=ptypes)\n",
    "class POPCON_params:\n",
    "    \"\"\"\n",
    "    Physical parameters for the POPCON.\n",
    "    \"\"\"\n",
    "    def __init__(self) -> None:\n",
    "        self.R = -1.0\n",
    "        \"Major radius [m]\"\n",
    "        self.a = -1.0\n",
    "        \"Minor radius [m]\"\n",
    "        self.kappa = -1.0\n",
    "        \"Plasma elongation []\"\n",
    "        self.B0 = -1.0\n",
    "        \"Magnetic field at the magnetic axis [T]\"\n",
    "        self.Ip = -1.0\n",
    "        \"Plasma current [MA]\"\n",
    "        self.q_a = -1.0\n",
    "        \"Edge safety factor []\"\n",
    "        self.H = -1.0\n",
    "        \"Assumed H factor relative to chosen scaling law []\"\n",
    "        self.M_i = -1.0\n",
    "        \"Ion mass [AMU]\"\n",
    "        self.fHe = -1.0\n",
    "        \"Ash fraction []\"\n",
    "        self.f_LH = -1.0\n",
    "        \"Target LH fraction f_LH = P_sol / P_tot\"\n",
    "        self.volgrid = np.empty(0,dtype=np.float64)\n",
    "        \"Volume grid for flux surfaces\"\n",
    "        self.sqrtpsin = np.empty(1, dtype=np.float64)\n",
    "        \"Square root of poloidal flux ~ radial coordinate\"\n",
    "        # 0 = He, 1 = Ne, 2 = Ar, 3 = Kr, 4 = Xe, 5 = W\n",
    "        self.impurityfractions = np.empty(6, dtype=np.float64)\n",
    "        \"Respective impurity fractions\"\n",
    "        pass\n",
    "\n",
    "    def _aR(self,m:float) -> float:\n",
    "        return m*self.a/self.R"
   ]
  },
  {
   "cell_type": "code",
   "execution_count": 80,
   "metadata": {},
   "outputs": [],
   "source": [
    "params = POPCON_params()"
   ]
  },
  {
   "cell_type": "code",
   "execution_count": 72,
   "metadata": {},
   "outputs": [],
   "source": [
    "impuritynames = np.zeros(1, dtype=str)\n"
   ]
  },
  {
   "cell_type": "code",
   "execution_count": 74,
   "metadata": {},
   "outputs": [
    {
     "data": {
      "text/plain": [
       "1.1"
      ]
     },
     "execution_count": 74,
     "metadata": {},
     "output_type": "execute_result"
    }
   ],
   "source": [
    "params._aR(1.1)"
   ]
  },
  {
   "cell_type": "code",
   "execution_count": 136,
   "metadata": {},
   "outputs": [],
   "source": [
    "@nb.jit(nopython=True)\n",
    "def example1(r:float):\n",
    "    return r**2\n",
    "@nb.jit(nopython=True)\n",
    "def example2(r:float):\n",
    "    return np.interp(r,np.linspace(0,1,10),np.linspace(0,1,10)**2)\n",
    "\n",
    "ptypes = [('extprof', nb.boolean),\n",
    "            ('defined', nb.boolean),\n",
    "            ('alpha1', nb.float64),\n",
    "            ('alpha2', nb.float64),\n",
    "            ('offset', nb.float64),\n",
    "            ('extprofr', nb.float64[:]),\n",
    "            ('extprofvals', nb.float64[:])\n",
    "          ]\n",
    "\n",
    "@nb.experimental.jitclass(spec=ptypes)\n",
    "class POPCON_profile:\n",
    "    def __init__(self) -> None:\n",
    "        self.extprof: bool\n",
    "        self.defined: bool = False\n",
    "        self.alpha1: float\n",
    "        self.alpha2: float\n",
    "        self.offset: float\n",
    "        self.extprofr = np.empty(0,dtype=np.float64)\n",
    "        self.extprofvals = np.empty(0,dtype=np.float64)\n",
    "\n",
    "    def _addextprof(self, extprofr, extprofvals):\n",
    "        if not self.defined:\n",
    "            self.extprof = True\n",
    "            self.defined = True\n",
    "            self.extprofr = extprofr\n",
    "            self.extprofvals = extprofvals\n",
    "        else:\n",
    "            raise SyntaxError(\"Profile already defined. Create a new object.\")\n",
    "        \n",
    "    def _set_alpha_and_offset(self, alpha1, alpha2, offset):\n",
    "        self.extprof = False\n",
    "        self.defined = True\n",
    "        self.alpha1 = alpha1\n",
    "        self.alpha2 = alpha2\n",
    "        self.offset = offset\n",
    "    \n",
    "    def get_prof_val(self, r, v0):\n",
    "        if self.extprof:\n",
    "            return v0*np.interp(r,self.extprofr,self.extprofvals)\n",
    "        else:\n",
    "            return (v0-self.offset)*(1-r**self.alpha1)**self.alpha2+self.offset"
   ]
  },
  {
   "cell_type": "code",
   "execution_count": 137,
   "metadata": {},
   "outputs": [],
   "source": [
    "p = profstest()\n",
    "p._addextprof(np.linspace(0,1,10),np.linspace(0,1,10)**2)"
   ]
  },
  {
   "cell_type": "code",
   "execution_count": 141,
   "metadata": {},
   "outputs": [
    {
     "data": {
      "text/plain": [
       "0.25308641975308643"
      ]
     },
     "execution_count": 141,
     "metadata": {},
     "output_type": "execute_result"
    }
   ],
   "source": [
    "p.get_prof_val(0.5,1)"
   ]
  },
  {
   "cell_type": "code",
   "execution_count": null,
   "metadata": {},
   "outputs": [],
   "source": []
  }
 ],
 "metadata": {
  "kernelspec": {
   "display_name": "Python 3",
   "language": "python",
   "name": "python3"
  },
  "language_info": {
   "codemirror_mode": {
    "name": "ipython",
    "version": 3
   },
   "file_extension": ".py",
   "mimetype": "text/x-python",
   "name": "python",
   "nbconvert_exporter": "python",
   "pygments_lexer": "ipython3",
   "version": "3.11.9"
  }
 },
 "nbformat": 4,
 "nbformat_minor": 2
}
